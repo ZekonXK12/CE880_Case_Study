{
 "cells": [
  {
   "cell_type": "code",
   "execution_count": 626,
   "id": "initial_id",
   "metadata": {
    "collapsed": true,
    "ExecuteTime": {
     "end_time": "2024-01-01T10:07:33.238456400Z",
     "start_time": "2024-01-01T10:07:33.197963300Z"
    }
   },
   "outputs": [],
   "source": [
    "import joblib\n",
    "import numpy as np\n",
    "import pandas as pd\n",
    "\n",
    "from sklearn.model_selection import train_test_split,GridSearchCV\n",
    "from sklearn.preprocessing import MinMaxScaler\n",
    "from sklearn.metrics import mean_squared_error\n",
    "from sklearn.tree import DecisionTreeRegressor\n",
    "from sklearn.ensemble import RandomForestRegressor\n",
    "from sklearn.linear_model import LinearRegression\n",
    "from sklearn.svm import SVR\n",
    "from sklearn.multioutput import MultiOutputRegressor\n",
    "from sklearn.decomposition import PCA\n",
    "\n",
    "import xgboost\n",
    "\n",
    "\n",
    "\n",
    "from matplotlib import pyplot as plt\n",
    "import seaborn as sns\n",
    "import joblib"
   ]
  },
  {
   "cell_type": "code",
   "execution_count": 622,
   "outputs": [],
   "source": [
    "data=pd.read_excel('data/dataBiomass_CE880.xlsx',skiprows=2,header=0).drop('Number',axis=1)\n",
    "# data=data[data['Superficial gas velocity']<8]\n",
    "\n",
    "x=data.iloc[:,:8]\n",
    "y=data.iloc[:,8:]\n",
    "\n",
    "x=PCA(n_components=6).fit_transform(x)\n",
    "\n",
    "mms_x=MinMaxScaler()\n",
    "mms_y=MinMaxScaler()\n",
    "x_norm=mms_x.fit_transform(x)\n",
    "y_norm=mms_y.fit_transform(y)\n",
    "\n",
    "x_train,x_test,y_train,y_test=train_test_split(x_norm,y_norm,test_size=0.2)\n",
    "y_test_denorm=mms_y.inverse_transform(y_test)"
   ],
   "metadata": {
    "collapsed": false,
    "ExecuteTime": {
     "end_time": "2024-01-01T10:06:23.625087300Z",
     "start_time": "2024-01-01T10:06:23.465192900Z"
    }
   },
   "id": "835f1d43e1caf941"
  },
  {
   "cell_type": "code",
   "execution_count": null,
   "outputs": [],
   "source": [
    "lr=LinearRegression()\n",
    "lr.fit(x_train,y_train)\n",
    "lr.predict()"
   ],
   "metadata": {
    "collapsed": false
   },
   "id": "7ce7b6a87febd40e"
  },
  {
   "cell_type": "code",
   "execution_count": 623,
   "outputs": [
    {
     "name": "stdout",
     "output_type": "stream",
     "text": [
      "5\n",
      "{'max_depth': None, 'min_samples_split': 5}\n",
      "5.265568531031206\n"
     ]
    },
    {
     "data": {
      "text/plain": "array([ 4.41687334,  5.04094885,  4.54545906,  2.10543573,  2.67835384,\n        5.34482898, 12.72707992])"
     },
     "execution_count": 623,
     "metadata": {},
     "output_type": "execute_result"
    }
   ],
   "source": [
    "dtr=DecisionTreeRegressor()\n",
    "param_grid_dtr={\n",
    "    'max_depth':[5,10,20,None],\n",
    "    'min_samples_split':[2,5,10]\n",
    "}\n",
    "gs_dtr=GridSearchCV(dtr,param_grid_dtr,scoring='neg_mean_squared_error')\n",
    "gs_dtr.fit(x_train,y_train)\n",
    "best_rfr=gs_dtr.best_estimator_\n",
    "y_pred=best_rfr.predict(x_test)\n",
    "y_pred_denorm=mms_y.inverse_transform(y_pred)\n",
    "rfr_rmse_score=mean_squared_error(y_test_denorm,y_pred_denorm,multioutput='raw_values',squared=False)\n",
    "rfr_rmse_score_a=mean_squared_error(y_test_denorm,y_pred_denorm,multioutput='uniform_average',squared=False)\n",
    "print(gs_dtr.best_estimator_.min_samples_split)\n",
    "print(gs_dtr.best_params_)\n",
    "print(rfr_rmse_score_a)\n",
    "rfr_rmse_score"
   ],
   "metadata": {
    "collapsed": false,
    "ExecuteTime": {
     "end_time": "2024-01-01T10:06:23.785030200Z",
     "start_time": "2024-01-01T10:06:23.625087300Z"
    }
   },
   "id": "68a952ad09d364f6"
  },
  {
   "cell_type": "code",
   "execution_count": 624,
   "outputs": [
    {
     "name": "stdout",
     "output_type": "stream",
     "text": [
      "2\n",
      "{'max_depth': 40, 'n_estimators': 40}\n",
      "4.301311989855703\n"
     ]
    },
    {
     "data": {
      "text/plain": "array([ 3.49442953,  3.87371581,  4.05777312,  1.55987711,  1.79454014,\n        4.81955869, 10.50928953])"
     },
     "execution_count": 624,
     "metadata": {},
     "output_type": "execute_result"
    }
   ],
   "source": [
    "rfr=RandomForestRegressor()\n",
    "param_grid_rfr={\n",
    "    'n_estimators':[20,40,100],\n",
    "    'max_depth':[5,20,40]\n",
    "}\n",
    "gs_rfr=GridSearchCV(rfr,param_grid=param_grid_rfr,scoring='neg_mean_squared_error',cv=6)\n",
    "gs_rfr.fit(x_train,y_train)\n",
    "# gs_rfr.best_score_\n",
    "best_rfr=gs_rfr.best_estimator_\n",
    "y_pred=best_rfr.predict(x_test)\n",
    "y_pred_denorm=mms_y.inverse_transform(y_pred)\n",
    "rfr_rmse_score=mean_squared_error(y_test_denorm,y_pred_denorm,multioutput='raw_values',squared=False)\n",
    "rfr_rmse_score_a=mean_squared_error(y_test_denorm,y_pred_denorm,multioutput='uniform_average',squared=False)\n",
    "print(gs_rfr.best_estimator_.min_samples_split)\n",
    "print(gs_rfr.best_params_)\n",
    "print(rfr_rmse_score_a)\n",
    "rfr_rmse_score"
   ],
   "metadata": {
    "collapsed": false,
    "ExecuteTime": {
     "end_time": "2024-01-01T10:06:29.460675900Z",
     "start_time": "2024-01-01T10:06:23.785030200Z"
    }
   },
   "id": "496aaf67e3cfea70"
  },
  {
   "cell_type": "code",
   "execution_count": 625,
   "outputs": [
    {
     "name": "stdout",
     "output_type": "stream",
     "text": [
      "4.415363199071689\n"
     ]
    },
    {
     "data": {
      "text/plain": "array([ 3.59660524,  3.91501106,  3.95126007,  1.62795479,  2.37180563,\n        4.79326953, 10.65163608])"
     },
     "execution_count": 625,
     "metadata": {},
     "output_type": "execute_result"
    }
   ],
   "source": [
    "\n",
    "params = {\n",
    "    'max_depth': 40,\n",
    "    'learning_rate': 0.2,\n",
    "    'objective': 'reg:squarederror',  # 多分类问题\n",
    "    'random_state':None\n",
    "}\n",
    "y_pred_total=[]\n",
    "for i in range(7):\n",
    "    train_DM=xgboost.DMatrix(data=x_train,label=y_train[:,i])\n",
    "    test_DM=xgboost.DMatrix(data=x_test,label=y_test[:,i])\n",
    "    bst=xgboost.train(params,train_DM,num_boost_round=200)\n",
    "    y_pred=bst.predict(test_DM).reshape(-1,1)\n",
    "    y_pred_total.append(y_pred)\n",
    "y_pred=np.concatenate(y_pred_total,axis=1)\n",
    "y_pred_denorm=mms_y.inverse_transform(y_pred)\n",
    "xgb_rmse_score=mean_squared_error(y_test_denorm,y_pred_denorm,multioutput='raw_values',squared=False)\n",
    "xgb_rmse_score_a=mean_squared_error(y_test_denorm,y_pred_denorm,multioutput='uniform_average',squared=False)\n",
    "\n",
    "print(xgb_rmse_score_a)\n",
    "xgb_rmse_score"
   ],
   "metadata": {
    "collapsed": false,
    "ExecuteTime": {
     "end_time": "2024-01-01T10:06:30.502248700Z",
     "start_time": "2024-01-01T10:06:29.460675900Z"
    }
   },
   "id": "740b25c524788249"
  },
  {
   "cell_type": "code",
   "execution_count": 536,
   "outputs": [],
   "source": [],
   "metadata": {
    "collapsed": false,
    "ExecuteTime": {
     "end_time": "2024-01-01T09:57:45.169007500Z",
     "start_time": "2024-01-01T09:57:45.119031300Z"
    }
   },
   "id": "8b7eea45aac2d788"
  },
  {
   "cell_type": "code",
   "execution_count": 537,
   "outputs": [
    {
     "name": "stdout",
     "output_type": "stream",
     "text": [
      "4.2354641524524865\n"
     ]
    },
    {
     "data": {
      "text/plain": "array([ 3.41811614,  4.0643452 ,  4.29357844,  1.55581566,  1.68385369,\n        4.33217256, 10.30036738])"
     },
     "execution_count": 537,
     "metadata": {},
     "output_type": "execute_result"
    }
   ],
   "source": [
    "rfr_1=RandomForestRegressor(n_estimators=40,max_depth=20)\n",
    "rfr_1.fit(x_train,y_train)\n",
    "y_pred=rfr_1.predict(x_test)\n",
    "y_pred_denorm=mms_y.inverse_transform(y_pred)\n",
    "rfr_rmse_score=mean_squared_error(y_test_denorm,y_pred_denorm,multioutput='raw_values',squared=False)\n",
    "rfr_rmse_a=mean_squared_error(y_test_denorm,y_pred_denorm,multioutput='uniform_average',squared=False)\n",
    "print(rfr_rmse_a)\n",
    "rfr_rmse_score\n"
   ],
   "metadata": {
    "collapsed": false,
    "ExecuteTime": {
     "end_time": "2024-01-01T09:57:45.258991Z",
     "start_time": "2024-01-01T09:57:45.129026900Z"
    }
   },
   "id": "5531861f6e73f7b3"
  },
  {
   "cell_type": "code",
   "execution_count": 538,
   "outputs": [
    {
     "data": {
      "text/plain": "[158,\n 161,\n 158,\n 164,\n 160,\n 155,\n 165,\n 158,\n 162,\n 169,\n 156,\n 159,\n 165,\n 170,\n 169,\n 168,\n 165,\n 159,\n 158,\n 159,\n 157,\n 159,\n 158,\n 162,\n 162,\n 160,\n 163,\n 157,\n 158,\n 153,\n 161,\n 173,\n 168,\n 157,\n 167,\n 158,\n 162,\n 157,\n 155,\n 155]"
     },
     "execution_count": 538,
     "metadata": {},
     "output_type": "execute_result"
    }
   ],
   "source": [
    "n_leaves_list=[]\n",
    "for tree in rfr_1.estimators_:\n",
    "    n_leaves_list.append(tree.get_n_leaves())\n",
    "n_leaves_list"
   ],
   "metadata": {
    "collapsed": false,
    "ExecuteTime": {
     "end_time": "2024-01-01T09:57:45.268983200Z",
     "start_time": "2024-01-01T09:57:45.258991Z"
    }
   },
   "id": "c42f7183f80686ce"
  },
  {
   "cell_type": "code",
   "execution_count": 539,
   "outputs": [
    {
     "data": {
      "text/plain": "{'max_depth': 20, 'n_estimators': 100}"
     },
     "execution_count": 539,
     "metadata": {},
     "output_type": "execute_result"
    }
   ],
   "source": [
    "gs_rfr.best_params_"
   ],
   "metadata": {
    "collapsed": false,
    "ExecuteTime": {
     "end_time": "2024-01-01T09:57:45.328164600Z",
     "start_time": "2024-01-01T09:57:45.268983200Z"
    }
   },
   "id": "24afed394a085cf6"
  },
  {
   "cell_type": "code",
   "execution_count": 540,
   "outputs": [],
   "source": [
    "# svr=MultiOutputRegressor(SVR())\n",
    "# param_grid_svr = {\n",
    "#     'estimator__kernel': ['linear', 'rbf'],\n",
    "#     'estimator__C': [0.1, 1.0, 10.0],\n",
    "#     'estimator__epsilon': [0.1, 0.2, 0.5],\n",
    "# }\n",
    "# grid_svr=GridSearchCV(svr,param_grid=param_grid_svr,scoring='neg_mean_squared_error')\n",
    "# grid_svr.fit(x_train,y_train)\n",
    "# grid_svr.best_score_"
   ],
   "metadata": {
    "collapsed": false,
    "ExecuteTime": {
     "end_time": "2024-01-01T09:57:45.328164600Z",
     "start_time": "2024-01-01T09:57:45.288183Z"
    }
   },
   "id": "979efd8f0bb27cdf"
  },
  {
   "cell_type": "code",
   "execution_count": 541,
   "outputs": [],
   "source": [
    "# svr.get_params().keys()"
   ],
   "metadata": {
    "collapsed": false,
    "ExecuteTime": {
     "end_time": "2024-01-01T09:57:45.328164600Z",
     "start_time": "2024-01-01T09:57:45.308174900Z"
    }
   },
   "id": "82da1393bfd31db5"
  },
  {
   "cell_type": "code",
   "execution_count": 542,
   "outputs": [],
   "source": [
    "best_rfr=gs_rfr.best_estimator_\n",
    "y_pred=best_rfr.predict(x_test)"
   ],
   "metadata": {
    "collapsed": false,
    "ExecuteTime": {
     "end_time": "2024-01-01T09:57:45.388134900Z",
     "start_time": "2024-01-01T09:57:45.328164600Z"
    }
   },
   "id": "42823176adadb2be"
  },
  {
   "cell_type": "code",
   "execution_count": 543,
   "outputs": [
    {
     "data": {
      "text/plain": "array([ 4.07695618,  4.16722574,  4.64394957,  1.59570116,  1.63760716,\n        3.98877106, 10.60508441])"
     },
     "execution_count": 543,
     "metadata": {},
     "output_type": "execute_result"
    }
   ],
   "source": [
    "y_pred_denorm=mms_y.inverse_transform(y_pred)\n",
    "rfr_rmse_score=mean_squared_error(y_test_denorm,y_pred_denorm,multioutput='raw_values',squared=False)\n",
    "rfr_rmse_score"
   ],
   "metadata": {
    "collapsed": false,
    "ExecuteTime": {
     "end_time": "2024-01-01T09:57:45.388134900Z",
     "start_time": "2024-01-01T09:57:45.358149600Z"
    }
   },
   "id": "e1c6f6874d609768"
  },
  {
   "cell_type": "code",
   "execution_count": 544,
   "outputs": [
    {
     "data": {
      "text/plain": "<Figure size 600x500 with 2 Axes>",
      "image/png": "[encoded data removed]"
     },
     "metadata": {},
     "output_type": "display_data"
    }
   ],
   "source": [
    "corr_matrix_feature=data.iloc[:,:8].corr()\n",
    "plt.figure(figsize=(6,5))\n",
    "sns.heatmap(corr_matrix_feature,cmap='YlGnBu',annot=True,linewidths=0.5,fmt='.2f')\n",
    "plt.title('correlation between features')\n",
    "plt.show()"
   ],
   "metadata": {
    "collapsed": false,
    "ExecuteTime": {
     "end_time": "2024-01-01T09:57:45.800986200Z",
     "start_time": "2024-01-01T09:57:45.368145300Z"
    }
   },
   "id": "fa605ca05e22bbc9"
  },
  {
   "cell_type": "code",
   "execution_count": 545,
   "outputs": [],
   "source": [
    "# pca=PCA(n_components=4)\n",
    "# x=pca.fit_transform(data.iloc[:,:8])\n",
    "# y=data.iloc[:,8:]\n",
    "# x_train,x_test,y_train,y_test=train_test_split(x,y,test_size=0.2)\n"
   ],
   "metadata": {
    "collapsed": false,
    "ExecuteTime": {
     "end_time": "2024-01-01T09:57:45.811016300Z",
     "start_time": "2024-01-01T09:57:45.794849700Z"
    }
   },
   "id": "a30456d9313f5f6e"
  },
  {
   "cell_type": "code",
   "execution_count": 546,
   "outputs": [],
   "source": [
    "# dtr = DecisionTreeRegressor()\n",
    "# param_grid_dtr = {\n",
    "#     'max_depth': [5, 10, 20, None],\n",
    "#     'min_samples_split': [2, 5, 10]\n",
    "# }\n",
    "# gs_dtr = GridSearchCV(dtr, param_grid_dtr, scoring='neg_mean_squared_error')\n",
    "# gs_dtr.fit(x_train, y_train)\n",
    "# gs_dtr.best_score_"
   ],
   "metadata": {
    "collapsed": false,
    "ExecuteTime": {
     "end_time": "2024-01-01T09:57:45.910937300Z",
     "start_time": "2024-01-01T09:57:45.811016300Z"
    }
   },
   "id": "e9f4c55c97ec45ab"
  },
  {
   "cell_type": "code",
   "execution_count": 547,
   "outputs": [],
   "source": [
    "# rfr = RandomForestRegressor()\n",
    "# param_grid_rfr = {\n",
    "#     'n_estimators': [5, 10, 20, 100],\n",
    "#     'max_depth': [5, 10, 20],\n",
    "#     'min_samples_split': [2, 5, 10]\n",
    "# }\n",
    "# gs_rfr = GridSearchCV(rfr, param_grid=param_grid_rfr, scoring='neg_mean_squared_error')\n",
    "# gs_rfr.fit(x_train, y_train)\n",
    "# gs_rfr.best_score_"
   ],
   "metadata": {
    "collapsed": false,
    "ExecuteTime": {
     "end_time": "2024-01-01T09:57:45.910937300Z",
     "start_time": "2024-01-01T09:57:45.830975200Z"
    }
   },
   "id": "6661adfc6dd2ddf2"
  },
  {
   "cell_type": "code",
   "execution_count": 548,
   "outputs": [],
   "source": [
    "# best_rfr = gs_rfr.best_estimator_\n",
    "# y_pred = best_rfr.predict(x_test)\n",
    "# y_pred\n",
    "# score_list = []\n",
    "# arr_y_test = np.array(y_test)\n",
    "# for i in range(y_test.shape[1]):\n",
    "#     score_list.append(np.sqrt(mean_squared_error(arr_y_test[:, i], y_pred[:, i])))\n",
    "# score_list\n"
   ],
   "metadata": {
    "collapsed": false,
    "ExecuteTime": {
     "end_time": "2024-01-01T09:57:45.910937300Z",
     "start_time": "2024-01-01T09:57:45.850994100Z"
    }
   },
   "id": "9253c01992be4e94"
  },
  {
   "cell_type": "code",
   "execution_count": 549,
   "outputs": [],
   "source": [
    "# pca.explained_variance_ratio_"
   ],
   "metadata": {
    "collapsed": false,
    "ExecuteTime": {
     "end_time": "2024-01-01T09:57:45.910937300Z",
     "start_time": "2024-01-01T09:57:45.860991900Z"
    }
   },
   "id": "1d5c54707bafb74d"
  },
  {
   "cell_type": "code",
   "execution_count": 550,
   "outputs": [],
   "source": [
    "import NeuralNetwork\n",
    "from importlib import reload\n",
    "reload(NeuralNetwork)\n",
    "from NeuralNetwork import MLPBiomass,BiomassDataset\n",
    "\n",
    "\n",
    "import torch\n",
    "from torch.utils.data import DataLoader\n",
    "\n",
    "from torch.nn import MSELoss\n",
    "from torch.optim import Adam"
   ],
   "metadata": {
    "collapsed": false,
    "ExecuteTime": {
     "end_time": "2024-01-01T09:57:47.744329200Z",
     "start_time": "2024-01-01T09:57:45.880979800Z"
    }
   },
   "id": "f72cfba23efef9ec"
  },
  {
   "cell_type": "code",
   "execution_count": 551,
   "outputs": [
    {
     "ename": "NameError",
     "evalue": "name 'calculate_rmse' is not defined",
     "output_type": "error",
     "traceback": [
      "\u001B[1;31m---------------------------------------------------------------------------\u001B[0m",
      "\u001B[1;31mNameError\u001B[0m                                 Traceback (most recent call last)",
      "Cell \u001B[1;32mIn[551], line 34\u001B[0m\n\u001B[0;32m     32\u001B[0m pred_test\u001B[38;5;241m=\u001B[39mnn_model\u001B[38;5;241m.\u001B[39mforward(tensor_x_test)\n\u001B[0;32m     33\u001B[0m pred_test_denorm\u001B[38;5;241m=\u001B[39mmms_y\u001B[38;5;241m.\u001B[39minverse_transform(pred_test\u001B[38;5;241m.\u001B[39mdetach()\u001B[38;5;241m.\u001B[39mnumpy())\n\u001B[1;32m---> 34\u001B[0m score_list\u001B[38;5;241m=\u001B[39m\u001B[43mcalculate_rmse\u001B[49m(y_test_denorm,pred_test_denorm)\n\u001B[0;32m     36\u001B[0m \u001B[38;5;28;01mif\u001B[39;00m epoch\u001B[38;5;241m%\u001B[39m\u001B[38;5;241m20\u001B[39m\u001B[38;5;241m==\u001B[39m\u001B[38;5;241m0\u001B[39m:\n\u001B[0;32m     37\u001B[0m     \u001B[38;5;28mprint\u001B[39m(\u001B[38;5;124mf\u001B[39m\u001B[38;5;124m'\u001B[39m\u001B[38;5;124mepoch:\u001B[39m\u001B[38;5;132;01m{\u001B[39;00mepoch\u001B[38;5;132;01m}\u001B[39;00m\u001B[38;5;124m - \u001B[39m\u001B[38;5;132;01m{\u001B[39;00mscore_list\u001B[38;5;132;01m}\u001B[39;00m\u001B[38;5;124m'\u001B[39m)\n",
      "\u001B[1;31mNameError\u001B[0m: name 'calculate_rmse' is not defined"
     ]
    }
   ],
   "source": [
    "data_train=np.concatenate([x_train,y_train],axis=1)\n",
    "data_test=np.concatenate([x_test,y_test],axis=1)\n",
    "tensor_data_train=torch.tensor(data_train,dtype=torch.float32)\n",
    "tensor_data_test=torch.tensor(data_test,dtype=torch.float32)\n",
    "nn_model=MLPBiomass(8,7)\n",
    "dataset=BiomassDataset(tensor_data_train)\n",
    "\n",
    "n_epochs=5555\n",
    "\n",
    "batch_size=32\n",
    "dataloader=DataLoader(dataset,batch_size=batch_size,shuffle=True,drop_last=False)\n",
    "\n",
    "criterion=MSELoss()\n",
    "optimizer=Adam(nn_model.parameters(),lr=0.0002)\n",
    "\n",
    "for epoch in range(n_epochs):\n",
    "    # training    \n",
    "    nn_model.train()\n",
    "    for batch,batch_data in enumerate(dataloader):\n",
    "        optimizer.zero_grad()\n",
    "        feat,label=batch_data[:,:8],batch_data[:,8:]\n",
    "        pred=nn_model(feat)\n",
    "        loss=criterion(pred,label)\n",
    "        \n",
    "        loss.backward()\n",
    "        optimizer.step()\n",
    "    \n",
    "    # validation\n",
    "    tensor_x_test=tensor_data_test[:,:8]\n",
    "    tensor_y_test=tensor_data_test[:,8:]\n",
    "    \n",
    "    pred_test=nn_model.forward(tensor_x_test)\n",
    "    pred_test_denorm=mms_y.inverse_transform(pred_test.detach().numpy())\n",
    "    score_list=calculate_rmse(y_test_denorm,pred_test_denorm)\n",
    "    \n",
    "    if epoch%20==0:\n",
    "        print(f'epoch:{epoch} - {score_list}')"
   ],
   "metadata": {
    "collapsed": false,
    "ExecuteTime": {
     "end_time": "2024-01-01T09:57:48.088469400Z",
     "start_time": "2024-01-01T09:57:47.744329200Z"
    }
   },
   "id": "914d7fce954fb3c3"
  },
  {
   "cell_type": "code",
   "execution_count": null,
   "outputs": [],
   "source": [
    "rfr_rmse_score"
   ],
   "metadata": {
    "collapsed": false,
    "ExecuteTime": {
     "end_time": "2024-01-01T09:57:48.088469400Z",
     "start_time": "2024-01-01T09:57:48.088469400Z"
    }
   },
   "id": "eb0ab8dd0fc1f02a"
  }
 ],
 "metadata": {
  "kernelspec": {
   "display_name": "Python 3",
   "language": "python",
   "name": "python3"
  },
  "language_info": {
   "codemirror_mode": {
    "name": "ipython",
    "version": 2
   },
   "file_extension": ".py",
   "mimetype": "text/x-python",
   "name": "python",
   "nbconvert_exporter": "python",
   "pygments_lexer": "ipython2",
   "version": "2.7.6"
  }
 },
 "nbformat": 4,
 "nbformat_minor": 5
}
