{
 "cells": [
  {
   "cell_type": "code",
   "execution_count": 30,
   "id": "initial_id",
   "metadata": {
    "collapsed": true,
    "ExecuteTime": {
     "end_time": "2024-01-04T10:52:15.254745100Z",
     "start_time": "2024-01-04T10:52:15.239860900Z"
    }
   },
   "outputs": [],
   "source": [
    "import numpy as np\n",
    "import pandas as pd\n",
    "from importlib import reload\n",
    "import pickle\n",
    "\n",
    "from sklearn.model_selection import train_test_split,GridSearchCV\n",
    "from sklearn.preprocessing import MinMaxScaler\n",
    "from sklearn.metrics import mean_squared_error,r2_score\n",
    "from sklearn.tree import DecisionTreeRegressor\n",
    "from sklearn.ensemble import RandomForestRegressor\n",
    "\n",
    "import xgboost\n",
    "import NeuralNetwork\n",
    "reload(NeuralNetwork)\n",
    "from NeuralNetwork import MLPBiomass,BiomassDataset\n",
    "\n",
    "import torch\n",
    "from torch.utils.data import DataLoader\n",
    "from torch.nn import MSELoss,init\n",
    "from torch.optim import AdamW\n"
   ]
  },
  {
   "cell_type": "code",
   "execution_count": 31,
   "outputs": [],
   "source": [
    "def get_evaluation(y_true,y_pred):\n",
    "    '''\n",
    "        calculate evaluation metrics\n",
    "    :param y_true: true labels\n",
    "    :param y_pred: model predictions\n",
    "    :return: a dictionary containing rmse, average rmse and r2\n",
    "    '''\n",
    "    score_dict={}\n",
    "    score_dict['rmse']=np.round(mean_squared_error(y_true,y_pred,multioutput='raw_values',squared=False),decimals=2)\n",
    "    score_dict['rmse_ave']=np.round(mean_squared_error(y_true,y_pred,multioutput='uniform_average',squared=False),decimals=2)\n",
    "    score_dict['r2']=np.round(r2_score(y_true,y_pred),decimals=2)\n",
    "    return score_dict\n",
    "\n",
    "def print_evaluation(model_name:str,score_dict:dict):\n",
    "    '''\n",
    "        print evaluation information\n",
    "    :param model_name: \n",
    "    :param score_dict: \n",
    "    :return: \n",
    "    '''\n",
    "    rmse_list=[]\n",
    "    column_names=['H2','CO','CO2','CH4','Lower','heating value','Char yield','tar yield']\n",
    "    for i in range(len(score_dict['rmse'])):\n",
    "        value_str=score_dict['rmse'][i]\n",
    "        rmse_list.append(f\"{value_str:.2f}\\t\\t\\t{column_names[i]}\")\n",
    "    rmse_str='\\n\\t\\t\\t'.join(rmse_list)\n",
    "    print(f\"evaluation of [ {model_name} ]\\n\\t- average RMSE: {score_dict['rmse_ave']}\\n\\t- RMSE: \\n\\t\\t\\t{rmse_str}\\n\\t- r2 score: {score_dict['r2']}\")"
   ],
   "metadata": {
    "collapsed": false,
    "ExecuteTime": {
     "end_time": "2024-01-04T10:52:15.295612900Z",
     "start_time": "2024-01-04T10:52:15.255742100Z"
    }
   },
   "id": "db140ed0ce8889db"
  },
  {
   "cell_type": "code",
   "execution_count": 32,
   "outputs": [],
   "source": [
    "data=pd.read_excel('data/dataBiomass_CE880.xlsx',skiprows=2,header=0).drop('Number',axis=1)\n",
    "data=data[data['Superficial gas velocity']<8]\n",
    "\n",
    "x=data.iloc[:,:8]\n",
    "y=data.iloc[:,8:]\n",
    "\n",
    "mms_x=MinMaxScaler()\n",
    "mms_y=MinMaxScaler()\n",
    "x_norm=mms_x.fit_transform(x)\n",
    "y_norm=mms_y.fit_transform(y)\n",
    "\n",
    "x_train,x_test,y_train,y_test=train_test_split(x_norm,y_norm,test_size=0.2)\n",
    "y_test_denorm=mms_y.inverse_transform(y_test)"
   ],
   "metadata": {
    "collapsed": false,
    "ExecuteTime": {
     "end_time": "2024-01-04T10:52:15.376376100Z",
     "start_time": "2024-01-04T10:52:15.266705300Z"
    }
   },
   "id": "835f1d43e1caf941"
  },
  {
   "cell_type": "code",
   "execution_count": 33,
   "outputs": [
    {
     "name": "stdout",
     "output_type": "stream",
     "text": [
      "evaluation of [ Decision Tree ]\n",
      "\t- average RMSE: 6.94\n",
      "\t- RMSE: \n",
      "\t\t\t4.48\t\t\tH2\n",
      "\t\t\t6.50\t\t\tCO\n",
      "\t\t\t7.20\t\t\tCO2\n",
      "\t\t\t1.82\t\t\tCH4\n",
      "\t\t\t2.33\t\t\tLower\n",
      "\t\t\t7.17\t\t\theating value\n",
      "\t\t\t19.10\t\t\tChar yield\n",
      "\t- r2 score: 0.35\n"
     ]
    }
   ],
   "source": [
    "# Decision Tree\n",
    "dtr=DecisionTreeRegressor()\n",
    "param_grid_dtr={\n",
    "    'max_depth':[5,10,20,None],\n",
    "    'min_samples_split':[2,5,10]\n",
    "}\n",
    "gs_dtr=GridSearchCV(dtr,param_grid_dtr,scoring='neg_mean_squared_error')\n",
    "gs_dtr.fit(x_train,y_train)\n",
    "best_dtr=gs_dtr.best_estimator_\n",
    "y_pred=best_dtr.predict(x_test)\n",
    "y_pred_denorm=mms_y.inverse_transform(y_pred)\n",
    "dtr_eval_dict=get_evaluation(y_test_denorm,y_pred_denorm)\n",
    "print_evaluation('Decision Tree',dtr_eval_dict)"
   ],
   "metadata": {
    "collapsed": false,
    "ExecuteTime": {
     "end_time": "2024-01-04T10:52:15.441159500Z",
     "start_time": "2024-01-04T10:52:15.376376100Z"
    }
   },
   "id": "68a952ad09d364f6"
  },
  {
   "cell_type": "code",
   "execution_count": 34,
   "outputs": [
    {
     "name": "stdout",
     "output_type": "stream",
     "text": [
      "evaluation of [ Random Forest ]\n",
      "\t- average RMSE: 4.53\n",
      "\t- RMSE: \n",
      "\t\t\t3.74\t\t\tH2\n",
      "\t\t\t4.31\t\t\tCO\n",
      "\t\t\t4.22\t\t\tCO2\n",
      "\t\t\t1.74\t\t\tCH4\n",
      "\t\t\t2.06\t\t\tLower\n",
      "\t\t\t5.79\t\t\theating value\n",
      "\t\t\t9.85\t\t\tChar yield\n",
      "\t- r2 score: 0.68\n"
     ]
    }
   ],
   "source": [
    "# Raw Random Forest\n",
    "rfr=RandomForestRegressor()\n",
    "param_grid_rfr={\n",
    "    'n_estimators':[100,200],\n",
    "    'max_depth':[20,40],\n",
    "}\n",
    "gs_rfr=GridSearchCV(rfr,param_grid=param_grid_rfr,scoring='neg_mean_squared_error',cv=6)\n",
    "gs_rfr.fit(x_train,y_train)\n",
    "# gs_rfr.best_score_\n",
    "best_rfr=gs_rfr.best_estimator_\n",
    "y_pred=best_rfr.predict(x_test)\n",
    "y_pred_denorm=mms_y.inverse_transform(y_pred)\n",
    "rfr_eval_dict=get_evaluation(y_test_denorm,y_pred_denorm)\n",
    "print_evaluation('Random Forest',rfr_eval_dict)"
   ],
   "metadata": {
    "collapsed": false,
    "ExecuteTime": {
     "end_time": "2024-01-04T10:52:19.053224500Z",
     "start_time": "2024-01-04T10:52:15.440162700Z"
    }
   },
   "id": "496aaf67e3cfea70"
  },
  {
   "cell_type": "code",
   "execution_count": 35,
   "outputs": [
    {
     "name": "stdout",
     "output_type": "stream",
     "text": [
      "evaluation of [ XGBoost ]\n",
      "\t- average RMSE: 5.21\n",
      "\t- RMSE: \n",
      "\t\t\t4.97\t\t\tH2\n",
      "\t\t\t4.31\t\t\tCO\n",
      "\t\t\t5.28\t\t\tCO2\n",
      "\t\t\t1.87\t\t\tCH4\n",
      "\t\t\t2.07\t\t\tLower\n",
      "\t\t\t6.49\t\t\theating value\n",
      "\t\t\t11.49\t\t\tChar yield\n",
      "\t- r2 score: 0.6\n"
     ]
    }
   ],
   "source": [
    "# XGBoost\n",
    "params = {\n",
    "    'max_depth': 20,\n",
    "    'learning_rate': 0.1,\n",
    "    'objective': 'reg:squarederror',  # 多分类问题\n",
    "    'random_state':None\n",
    "}\n",
    "y_pred_total=[]\n",
    "for i in range(7):\n",
    "    train_DM=xgboost.DMatrix(data=x_train,label=y_train[:,i])\n",
    "    test_DM=xgboost.DMatrix(data=x_test,label=y_test[:,i])\n",
    "    bst=xgboost.train(params,train_DM,num_boost_round=200)\n",
    "    y_pred=bst.predict(test_DM).reshape(-1,1)\n",
    "    y_pred_total.append(y_pred)\n",
    "y_pred=np.concatenate(y_pred_total,axis=1)\n",
    "y_pred_denorm=mms_y.inverse_transform(y_pred)\n",
    "xgb_eval_dict=get_evaluation(y_test_denorm,y_pred_denorm)\n",
    "print_evaluation('XGBoost',xgb_eval_dict)"
   ],
   "metadata": {
    "collapsed": false,
    "ExecuteTime": {
     "end_time": "2024-01-04T10:52:19.882450600Z",
     "start_time": "2024-01-04T10:52:19.054221100Z"
    }
   },
   "id": "740b25c524788249"
  },
  {
   "cell_type": "code",
   "execution_count": 36,
   "outputs": [
    {
     "name": "stdout",
     "output_type": "stream",
     "text": [
      "epoch:0 - test score: 41.15\n"
     ]
    },
    {
     "name": "stderr",
     "output_type": "stream",
     "text": [
      "C:\\Users\\zekon\\AppData\\Local\\Temp\\ipykernel_9672\\535787872.py:10: UserWarning: nn.init.xavier_normal is now deprecated in favor of nn.init.xavier_normal_.\n",
      "  init.xavier_normal(layer.weight)\n"
     ]
    },
    {
     "name": "stdout",
     "output_type": "stream",
     "text": [
      "epoch:100 - test score: 9.05\n",
      "epoch:200 - test score: 6.74\n",
      "epoch:300 - test score: 6.42\n",
      "epoch:400 - test score: 6.47\n",
      "epoch:500 - test score: 5.91\n",
      "epoch:600 - test score: 5.53\n",
      "epoch:700 - test score: 5.55\n",
      "epoch:800 - test score: 5.48\n",
      "epoch:900 - test score: 5.40\n",
      "epoch:1000 - test score: 5.51\n",
      "epoch:1100 - test score: 5.29\n",
      "epoch:1200 - test score: 5.21\n",
      "epoch:1300 - test score: 5.01\n",
      "epoch:1400 - test score: 4.93\n",
      "epoch:1500 - test score: 5.06\n",
      "epoch:1600 - test score: 4.89\n",
      "epoch:1700 - test score: 5.00\n",
      "epoch:1800 - test score: 4.98\n",
      "epoch:1900 - test score: 5.05\n",
      "Best performance on the test set occurred:\n",
      "epoch: 1691/2000, score: 4.699853078160045, rmse: [ 5.09354738  3.93371194  4.10966909  1.82304238  1.79855696  5.69409663\n",
      " 10.44634717]\n"
     ]
    }
   ],
   "source": [
    "# Fully-Connected Neural Network\n",
    "data_train=np.concatenate([x_train,y_train],axis=1)\n",
    "data_test=np.concatenate([x_test,y_test],axis=1)\n",
    "tensor_data_train=torch.tensor(data_train,dtype=torch.float32)\n",
    "tensor_data_test=torch.tensor(data_test,dtype=torch.float32)\n",
    "nn_model=MLPBiomass(8,7)\n",
    "\n",
    "for layer in nn_model.modules():\n",
    "    if isinstance(layer,torch.nn.Linear):\n",
    "        init.xavier_normal(layer.weight)\n",
    "\n",
    "dataset=BiomassDataset(tensor_data_train)\n",
    "\n",
    "n_epochs=2000\n",
    "batch_size=32\n",
    "dataloader=DataLoader(dataset,batch_size=batch_size,shuffle=True,drop_last=False)\n",
    "\n",
    "criterion=MSELoss()\n",
    "optimizer=AdamW(nn_model.parameters(),lr=0.0004)\n",
    "# optimizer=SGD(nn_model.parameters(),lr=0.004,momentum=0.8)\n",
    "\n",
    "best_epoch=None\n",
    "best_score=float('inf')\n",
    "best_rmse=None\n",
    "best_model=None\n",
    "\n",
    "for epoch in range(n_epochs):\n",
    "    # training    \n",
    "    nn_model.train()\n",
    "    for batch,batch_data in enumerate(dataloader):\n",
    "        optimizer.zero_grad()\n",
    "        feat,label=batch_data[:,:8],batch_data[:,8:]\n",
    "        pred=nn_model(feat)\n",
    "        loss=criterion(pred,label)\n",
    "\n",
    "        loss.backward()\n",
    "        optimizer.step()\n",
    "\n",
    "    # validation\n",
    "    tensor_x_test=tensor_data_test[:,:8]\n",
    "    tensor_y_test=tensor_data_test[:,8:]\n",
    "\n",
    "    pred_test=nn_model(tensor_x_test)\n",
    "    pred_test_denorm=mms_y.inverse_transform(pred_test.detach().numpy())\n",
    "    nn_rmse=mean_squared_error(y_test_denorm,pred_test_denorm,multioutput='raw_values',squared=False)\n",
    "    nn_rmse_mean=np.mean(nn_rmse)\n",
    "\n",
    "    if epoch%100==0:\n",
    "        print(f'epoch:{epoch} - test score: {nn_rmse_mean:.2f}')\n",
    "\n",
    "    if nn_rmse_mean<best_score:\n",
    "        best_epoch=epoch\n",
    "        best_score=nn_rmse_mean\n",
    "        best_rmse=nn_rmse\n",
    "        best_model=nn_model.state_dict()\n",
    "\n",
    "last_model=nn_model.state_dict()\n",
    "\n",
    "print(f'Best performance on the test set occurred:\\nepoch: {best_epoch}/{n_epochs}, score: {best_score}, rmse: {best_rmse}')"
   ],
   "metadata": {
    "collapsed": false,
    "ExecuteTime": {
     "end_time": "2024-01-04T10:52:57.840479200Z",
     "start_time": "2024-01-04T10:52:19.882450600Z"
    }
   },
   "id": "f72cfba23efef9ec"
  },
  {
   "cell_type": "code",
   "execution_count": 37,
   "outputs": [
    {
     "name": "stdout",
     "output_type": "stream",
     "text": [
      "evaluation of [ Fully-Connected Neural Network ]\n",
      "\t- average RMSE: 4.94\n",
      "\t- RMSE: \n",
      "\t\t\t4.92\t\t\tH2\n",
      "\t\t\t4.40\t\t\tCO\n",
      "\t\t\t4.31\t\t\tCO2\n",
      "\t\t\t1.91\t\t\tCH4\n",
      "\t\t\t1.75\t\t\tLower\n",
      "\t\t\t5.96\t\t\theating value\n",
      "\t\t\t11.35\t\t\tChar yield\n",
      "\t- r2 score: 0.66\n"
     ]
    }
   ],
   "source": [
    "nn_model.load_state_dict(best_model)\n",
    "y_pred=nn_model(torch.tensor(x_test,dtype=torch.float32))\n",
    "y_pred_denorm=mms_y.inverse_transform(y_pred.detach().numpy())\n",
    "nn_eval_dict=get_evaluation(y_test_denorm,y_pred_denorm)\n",
    "print_evaluation('Fully-Connected Neural Network',nn_eval_dict)"
   ],
   "metadata": {
    "collapsed": false,
    "ExecuteTime": {
     "end_time": "2024-01-04T10:52:57.876358400Z",
     "start_time": "2024-01-04T10:52:57.836492Z"
    }
   },
   "id": "eb0ab8dd0fc1f02a"
  },
  {
   "cell_type": "code",
   "execution_count": 38,
   "outputs": [
    {
     "name": "stdout",
     "output_type": "stream",
     "text": [
      "evaluation of [ random forest ]\n",
      "\t- average RMSE: 4.53\n",
      "\t- RMSE: \n",
      "\t\t\t3.74\t\t\tH2\n",
      "\t\t\t4.31\t\t\tCO\n",
      "\t\t\t4.22\t\t\tCO2\n",
      "\t\t\t1.74\t\t\tCH4\n",
      "\t\t\t2.06\t\t\tLower\n",
      "\t\t\t5.79\t\t\theating value\n",
      "\t\t\t9.85\t\t\tChar yield\n",
      "\t- r2 score: 0.68\n",
      "------------------------------------------------------------------------------------------------------------------------------------------------------\n",
      "evaluation of [ random forest with StaGen ]\n",
      "\t- average RMSE: 3.86\n",
      "\t- RMSE: \n",
      "\t\t\t3.00\t\t\tH2\n",
      "\t\t\t3.41\t\t\tCO\n",
      "\t\t\t3.36\t\t\tCO2\n",
      "\t\t\t1.30\t\t\tCH4\n",
      "\t\t\t1.10\t\t\tLower\n",
      "\t\t\t5.07\t\t\theating value\n",
      "\t\t\t9.77\t\t\tChar yield\n",
      "\t- r2 score: 0.81\n"
     ]
    }
   ],
   "source": [
    "# Random Forest with StaGen\n",
    "# Load the trained StaGen model to transform the predictions of the Random Forest model into new predictions\n",
    "reload(NeuralNetwork)\n",
    "from NeuralNetwork import StaGen\n",
    "stagen=StaGen(7)\n",
    "with open('trained_model/StaGen.pkl','rb') as f:\n",
    "    stagen_state_dict=pickle.load(f)\n",
    "stagen.load_state_dict(stagen_state_dict)\n",
    "\n",
    "# put test data into random forest model and see how is it doing\n",
    "y_pred=best_rfr.predict(x_test)\n",
    "y_pred_denorm=mms_y.inverse_transform(y_pred)\n",
    "rfr_evaluation=get_evaluation(y_test_denorm,y_pred_denorm)\n",
    "\n",
    "# put its predictions into the stagen model and see how is it doing\n",
    "y_pred_stagen=stagen(torch.tensor(y_pred,dtype=torch.float32))\n",
    "y_pred_stagen_denorm=mms_y.inverse_transform(y_pred_stagen.detach().numpy())\n",
    "stagen_evaluation=get_evaluation(y_test_denorm,y_pred_stagen_denorm)\n",
    "\n",
    "print_evaluation('random forest', rfr_evaluation)\n",
    "print('-'*150)\n",
    "print_evaluation('random forest with StaGen', stagen_evaluation)"
   ],
   "metadata": {
    "collapsed": false,
    "ExecuteTime": {
     "end_time": "2024-01-04T10:52:57.883335600Z",
     "start_time": "2024-01-04T10:52:57.849448500Z"
    }
   },
   "id": "45c4109238ac222e"
  },
  {
   "cell_type": "code",
   "execution_count": 39,
   "outputs": [],
   "source": [
    "with open('trained_model/RandomForest.pkl','wb') as f:\n",
    "    pickle.dump(best_rfr,f)"
   ],
   "metadata": {
    "collapsed": false,
    "ExecuteTime": {
     "end_time": "2024-01-04T10:52:57.893302Z",
     "start_time": "2024-01-04T10:52:57.879349400Z"
    }
   },
   "id": "4c33d660b9e0678c"
  },
  {
   "cell_type": "code",
   "execution_count": 40,
   "outputs": [
    {
     "name": "stdout",
     "output_type": "stream",
     "text": [
      "4.17\n",
      "3.57\n",
      "4.45\n",
      "3.27\n",
      "5.48\n",
      "3.55\n",
      "4.09\n",
      "3.2\n",
      "4.91\n",
      "4.03\n",
      "4.42\n",
      "4.06\n",
      "4.8\n",
      "3.94\n",
      "3.75\n",
      "3.0\n",
      "4.77\n",
      "4.06\n",
      "4.7\n",
      "3.69\n",
      "3.93\n",
      "3.47\n",
      "3.85\n",
      "4.84\n",
      "3.48\n",
      "2.74\n",
      "4.62\n",
      "4.4\n",
      "4.67\n",
      "3.51\n",
      "5.03\n",
      "3.66\n",
      "4.52\n",
      "2.88\n",
      "6.34\n",
      "6.17\n",
      "4.93\n",
      "5.21\n",
      "5.5\n",
      "3.83\n"
     ]
    }
   ],
   "source": [
    "# Experiments: test the StaGen module on 20 trained random forest models\n",
    "rfr_score_list=[]\n",
    "stagen_score_list=[]\n",
    "best_rmse_ave=float('inf')\n",
    "best_model=None\n",
    "for i in range(20):  \n",
    "    x_train,x_test,y_train,y_test=train_test_split(x_norm,y_norm,test_size=0.2)\n",
    "    y_test_denorm=mms_y.inverse_transform(y_test)\n",
    "    rfr=RandomForestRegressor()\n",
    "    param_grid_rfr={\n",
    "        'n_estimators':[100,200],\n",
    "        'max_depth':[20,40],\n",
    "    }\n",
    "    gs_rfr=GridSearchCV(rfr,param_grid=param_grid_rfr,scoring='neg_mean_squared_error',cv=6)\n",
    "    gs_rfr.fit(x_train,y_train)\n",
    "    best_rfr=gs_rfr.best_estimator_\n",
    "    y_pred=best_rfr.predict(x_test)\n",
    "    y_pred_denorm=mms_y.inverse_transform(y_pred)\n",
    "    rfr_eval_dict=get_evaluation(y_test_denorm,y_pred_denorm)\n",
    "    rfr_score_list.append(rfr_eval_dict['rmse_ave'])\n",
    "    print(rfr_eval_dict['rmse_ave'])\n",
    "    \n",
    "    y_pred_stagen=stagen(torch.tensor(y_pred,dtype=torch.float32))\n",
    "    y_pred_stagen_denorm=mms_y.inverse_transform(y_pred_stagen.detach().numpy())\n",
    "    stagen_evaluation=get_evaluation(y_test_denorm,y_pred_stagen_denorm)\n",
    "    stagen_score_list.append(stagen_evaluation['rmse_ave'])\n",
    "    print(stagen_evaluation['rmse_ave'])\n",
    "    \n",
    "    if stagen_evaluation['rmse_ave']<best_rmse_ave:\n",
    "        best_rmse_ave=stagen_evaluation['rmse_ave']\n",
    "        best_model=best_rfr"
   ],
   "metadata": {
    "collapsed": false,
    "ExecuteTime": {
     "end_time": "2024-01-04T10:54:09.234108800Z",
     "start_time": "2024-01-04T10:52:57.898285500Z"
    }
   },
   "id": "5a785cd66213f513"
  },
  {
   "cell_type": "code",
   "execution_count": 46,
   "outputs": [
    {
     "ename": "TypeError",
     "evalue": "unhashable type: 'dict'",
     "output_type": "error",
     "traceback": [
      "\u001B[1;31m---------------------------------------------------------------------------\u001B[0m",
      "\u001B[1;31mTypeError\u001B[0m                                 Traceback (most recent call last)",
      "\u001B[1;32m~\\AppData\\Local\\Temp\\ipykernel_9672\\3830718180.py\u001B[0m in \u001B[0;36m<module>\u001B[1;34m\u001B[0m\n\u001B[0;32m     10\u001B[0m \u001B[1;33m\u001B[0m\u001B[0m\n\u001B[0;32m     11\u001B[0m \u001B[1;31m# 绘制两个数组的值，可以选择不同的线型和标记风格来区分\u001B[0m\u001B[1;33m\u001B[0m\u001B[1;33m\u001B[0m\u001B[0m\n\u001B[1;32m---> 12\u001B[1;33m \u001B[0mplt\u001B[0m\u001B[1;33m.\u001B[0m\u001B[0mplot\u001B[0m\u001B[1;33m(\u001B[0m\u001B[0mindices\u001B[0m\u001B[1;33m,\u001B[0m \u001B[0mrfr_score_list\u001B[0m\u001B[1;33m,\u001B[0m \u001B[0mmarker\u001B[0m\u001B[1;33m=\u001B[0m\u001B[1;34m'o'\u001B[0m\u001B[1;33m,\u001B[0m \u001B[0mlinestyle\u001B[0m\u001B[1;33m=\u001B[0m\u001B[1;34m'-'\u001B[0m\u001B[1;33m,\u001B[0m \u001B[0mcolor\u001B[0m\u001B[1;33m=\u001B[0m\u001B[1;34m'g'\u001B[0m\u001B[1;33m,\u001B[0m \u001B[0mlabel\u001B[0m\u001B[1;33m=\u001B[0m\u001B[1;34m'Random Forest'\u001B[0m\u001B[1;33m,\u001B[0m\u001B[0mlinewidth\u001B[0m\u001B[1;33m=\u001B[0m\u001B[1;36m0.6\u001B[0m\u001B[1;33m,\u001B[0m\u001B[0mmarkersize\u001B[0m\u001B[1;33m=\u001B[0m\u001B[1;36m3\u001B[0m\u001B[1;33m)\u001B[0m\u001B[1;33m\u001B[0m\u001B[1;33m\u001B[0m\u001B[0m\n\u001B[0m\u001B[0;32m     13\u001B[0m \u001B[0mplt\u001B[0m\u001B[1;33m.\u001B[0m\u001B[0mplot\u001B[0m\u001B[1;33m(\u001B[0m\u001B[0mindices\u001B[0m\u001B[1;33m,\u001B[0m \u001B[0mstagen_score_list\u001B[0m\u001B[1;33m,\u001B[0m \u001B[0mmarker\u001B[0m\u001B[1;33m=\u001B[0m\u001B[1;34m'o'\u001B[0m\u001B[1;33m,\u001B[0m \u001B[0mlinestyle\u001B[0m\u001B[1;33m=\u001B[0m\u001B[1;34m'-'\u001B[0m\u001B[1;33m,\u001B[0m \u001B[0mcolor\u001B[0m\u001B[1;33m=\u001B[0m\u001B[1;34m'b'\u001B[0m\u001B[1;33m,\u001B[0m \u001B[0mlabel\u001B[0m\u001B[1;33m=\u001B[0m\u001B[1;34m'StaGen-RF'\u001B[0m\u001B[1;33m,\u001B[0m\u001B[0mlinewidth\u001B[0m\u001B[1;33m=\u001B[0m\u001B[1;36m0.6\u001B[0m\u001B[1;33m,\u001B[0m\u001B[0mmarkersize\u001B[0m\u001B[1;33m=\u001B[0m\u001B[1;36m3\u001B[0m\u001B[1;33m)\u001B[0m\u001B[1;33m\u001B[0m\u001B[1;33m\u001B[0m\u001B[0m\n\u001B[0;32m     14\u001B[0m \u001B[1;33m\u001B[0m\u001B[0m\n",
      "\u001B[1;32mE:\\AI\\ANACONDA\\lib\\site-packages\\matplotlib\\pyplot.py\u001B[0m in \u001B[0;36mplot\u001B[1;34m(scalex, scaley, data, *args, **kwargs)\u001B[0m\n\u001B[0;32m   2767\u001B[0m \u001B[1;33m@\u001B[0m\u001B[0m_copy_docstring_and_deprecators\u001B[0m\u001B[1;33m(\u001B[0m\u001B[0mAxes\u001B[0m\u001B[1;33m.\u001B[0m\u001B[0mplot\u001B[0m\u001B[1;33m)\u001B[0m\u001B[1;33m\u001B[0m\u001B[1;33m\u001B[0m\u001B[0m\n\u001B[0;32m   2768\u001B[0m \u001B[1;32mdef\u001B[0m \u001B[0mplot\u001B[0m\u001B[1;33m(\u001B[0m\u001B[1;33m*\u001B[0m\u001B[0margs\u001B[0m\u001B[1;33m,\u001B[0m \u001B[0mscalex\u001B[0m\u001B[1;33m=\u001B[0m\u001B[1;32mTrue\u001B[0m\u001B[1;33m,\u001B[0m \u001B[0mscaley\u001B[0m\u001B[1;33m=\u001B[0m\u001B[1;32mTrue\u001B[0m\u001B[1;33m,\u001B[0m \u001B[0mdata\u001B[0m\u001B[1;33m=\u001B[0m\u001B[1;32mNone\u001B[0m\u001B[1;33m,\u001B[0m \u001B[1;33m**\u001B[0m\u001B[0mkwargs\u001B[0m\u001B[1;33m)\u001B[0m\u001B[1;33m:\u001B[0m\u001B[1;33m\u001B[0m\u001B[1;33m\u001B[0m\u001B[0m\n\u001B[1;32m-> 2769\u001B[1;33m     return gca().plot(\n\u001B[0m\u001B[0;32m   2770\u001B[0m         \u001B[1;33m*\u001B[0m\u001B[0margs\u001B[0m\u001B[1;33m,\u001B[0m \u001B[0mscalex\u001B[0m\u001B[1;33m=\u001B[0m\u001B[0mscalex\u001B[0m\u001B[1;33m,\u001B[0m \u001B[0mscaley\u001B[0m\u001B[1;33m=\u001B[0m\u001B[0mscaley\u001B[0m\u001B[1;33m,\u001B[0m\u001B[1;33m\u001B[0m\u001B[1;33m\u001B[0m\u001B[0m\n\u001B[0;32m   2771\u001B[0m         **({\"data\": data} if data is not None else {}), **kwargs)\n",
      "\u001B[1;32mE:\\AI\\ANACONDA\\lib\\site-packages\\matplotlib\\axes\\_axes.py\u001B[0m in \u001B[0;36mplot\u001B[1;34m(self, scalex, scaley, data, *args, **kwargs)\u001B[0m\n\u001B[0;32m   1630\u001B[0m         \"\"\"\n\u001B[0;32m   1631\u001B[0m         \u001B[0mkwargs\u001B[0m \u001B[1;33m=\u001B[0m \u001B[0mcbook\u001B[0m\u001B[1;33m.\u001B[0m\u001B[0mnormalize_kwargs\u001B[0m\u001B[1;33m(\u001B[0m\u001B[0mkwargs\u001B[0m\u001B[1;33m,\u001B[0m \u001B[0mmlines\u001B[0m\u001B[1;33m.\u001B[0m\u001B[0mLine2D\u001B[0m\u001B[1;33m)\u001B[0m\u001B[1;33m\u001B[0m\u001B[1;33m\u001B[0m\u001B[0m\n\u001B[1;32m-> 1632\u001B[1;33m         \u001B[0mlines\u001B[0m \u001B[1;33m=\u001B[0m \u001B[1;33m[\u001B[0m\u001B[1;33m*\u001B[0m\u001B[0mself\u001B[0m\u001B[1;33m.\u001B[0m\u001B[0m_get_lines\u001B[0m\u001B[1;33m(\u001B[0m\u001B[1;33m*\u001B[0m\u001B[0margs\u001B[0m\u001B[1;33m,\u001B[0m \u001B[0mdata\u001B[0m\u001B[1;33m=\u001B[0m\u001B[0mdata\u001B[0m\u001B[1;33m,\u001B[0m \u001B[1;33m**\u001B[0m\u001B[0mkwargs\u001B[0m\u001B[1;33m)\u001B[0m\u001B[1;33m]\u001B[0m\u001B[1;33m\u001B[0m\u001B[1;33m\u001B[0m\u001B[0m\n\u001B[0m\u001B[0;32m   1633\u001B[0m         \u001B[1;32mfor\u001B[0m \u001B[0mline\u001B[0m \u001B[1;32min\u001B[0m \u001B[0mlines\u001B[0m\u001B[1;33m:\u001B[0m\u001B[1;33m\u001B[0m\u001B[1;33m\u001B[0m\u001B[0m\n\u001B[0;32m   1634\u001B[0m             \u001B[0mself\u001B[0m\u001B[1;33m.\u001B[0m\u001B[0madd_line\u001B[0m\u001B[1;33m(\u001B[0m\u001B[0mline\u001B[0m\u001B[1;33m)\u001B[0m\u001B[1;33m\u001B[0m\u001B[1;33m\u001B[0m\u001B[0m\n",
      "\u001B[1;32mE:\\AI\\ANACONDA\\lib\\site-packages\\matplotlib\\axes\\_base.py\u001B[0m in \u001B[0;36m__call__\u001B[1;34m(self, data, *args, **kwargs)\u001B[0m\n\u001B[0;32m    310\u001B[0m                 \u001B[0mthis\u001B[0m \u001B[1;33m+=\u001B[0m \u001B[0margs\u001B[0m\u001B[1;33m[\u001B[0m\u001B[1;36m0\u001B[0m\u001B[1;33m]\u001B[0m\u001B[1;33m,\u001B[0m\u001B[1;33m\u001B[0m\u001B[1;33m\u001B[0m\u001B[0m\n\u001B[0;32m    311\u001B[0m                 \u001B[0margs\u001B[0m \u001B[1;33m=\u001B[0m \u001B[0margs\u001B[0m\u001B[1;33m[\u001B[0m\u001B[1;36m1\u001B[0m\u001B[1;33m:\u001B[0m\u001B[1;33m]\u001B[0m\u001B[1;33m\u001B[0m\u001B[1;33m\u001B[0m\u001B[0m\n\u001B[1;32m--> 312\u001B[1;33m             \u001B[1;32myield\u001B[0m \u001B[1;32mfrom\u001B[0m \u001B[0mself\u001B[0m\u001B[1;33m.\u001B[0m\u001B[0m_plot_args\u001B[0m\u001B[1;33m(\u001B[0m\u001B[0mthis\u001B[0m\u001B[1;33m,\u001B[0m \u001B[0mkwargs\u001B[0m\u001B[1;33m)\u001B[0m\u001B[1;33m\u001B[0m\u001B[1;33m\u001B[0m\u001B[0m\n\u001B[0m\u001B[0;32m    313\u001B[0m \u001B[1;33m\u001B[0m\u001B[0m\n\u001B[0;32m    314\u001B[0m     \u001B[1;32mdef\u001B[0m \u001B[0mget_next_color\u001B[0m\u001B[1;33m(\u001B[0m\u001B[0mself\u001B[0m\u001B[1;33m)\u001B[0m\u001B[1;33m:\u001B[0m\u001B[1;33m\u001B[0m\u001B[1;33m\u001B[0m\u001B[0m\n",
      "\u001B[1;32mE:\\AI\\ANACONDA\\lib\\site-packages\\matplotlib\\axes\\_base.py\u001B[0m in \u001B[0;36m_plot_args\u001B[1;34m(self, tup, kwargs, return_kwargs)\u001B[0m\n\u001B[0;32m    493\u001B[0m             \u001B[0mself\u001B[0m\u001B[1;33m.\u001B[0m\u001B[0maxes\u001B[0m\u001B[1;33m.\u001B[0m\u001B[0mxaxis\u001B[0m\u001B[1;33m.\u001B[0m\u001B[0mupdate_units\u001B[0m\u001B[1;33m(\u001B[0m\u001B[0mx\u001B[0m\u001B[1;33m)\u001B[0m\u001B[1;33m\u001B[0m\u001B[1;33m\u001B[0m\u001B[0m\n\u001B[0;32m    494\u001B[0m         \u001B[1;32mif\u001B[0m \u001B[0mself\u001B[0m\u001B[1;33m.\u001B[0m\u001B[0maxes\u001B[0m\u001B[1;33m.\u001B[0m\u001B[0myaxis\u001B[0m \u001B[1;32mis\u001B[0m \u001B[1;32mnot\u001B[0m \u001B[1;32mNone\u001B[0m\u001B[1;33m:\u001B[0m\u001B[1;33m\u001B[0m\u001B[1;33m\u001B[0m\u001B[0m\n\u001B[1;32m--> 495\u001B[1;33m             \u001B[0mself\u001B[0m\u001B[1;33m.\u001B[0m\u001B[0maxes\u001B[0m\u001B[1;33m.\u001B[0m\u001B[0myaxis\u001B[0m\u001B[1;33m.\u001B[0m\u001B[0mupdate_units\u001B[0m\u001B[1;33m(\u001B[0m\u001B[0my\u001B[0m\u001B[1;33m)\u001B[0m\u001B[1;33m\u001B[0m\u001B[1;33m\u001B[0m\u001B[0m\n\u001B[0m\u001B[0;32m    496\u001B[0m \u001B[1;33m\u001B[0m\u001B[0m\n\u001B[0;32m    497\u001B[0m         \u001B[1;32mif\u001B[0m \u001B[0mx\u001B[0m\u001B[1;33m.\u001B[0m\u001B[0mshape\u001B[0m\u001B[1;33m[\u001B[0m\u001B[1;36m0\u001B[0m\u001B[1;33m]\u001B[0m \u001B[1;33m!=\u001B[0m \u001B[0my\u001B[0m\u001B[1;33m.\u001B[0m\u001B[0mshape\u001B[0m\u001B[1;33m[\u001B[0m\u001B[1;36m0\u001B[0m\u001B[1;33m]\u001B[0m\u001B[1;33m:\u001B[0m\u001B[1;33m\u001B[0m\u001B[1;33m\u001B[0m\u001B[0m\n",
      "\u001B[1;32mE:\\AI\\ANACONDA\\lib\\site-packages\\matplotlib\\axis.py\u001B[0m in \u001B[0;36mupdate_units\u001B[1;34m(self, data)\u001B[0m\n\u001B[0;32m   1447\u001B[0m         \u001B[0mneednew\u001B[0m \u001B[1;33m=\u001B[0m \u001B[0mself\u001B[0m\u001B[1;33m.\u001B[0m\u001B[0mconverter\u001B[0m \u001B[1;33m!=\u001B[0m \u001B[0mconverter\u001B[0m\u001B[1;33m\u001B[0m\u001B[1;33m\u001B[0m\u001B[0m\n\u001B[0;32m   1448\u001B[0m         \u001B[0mself\u001B[0m\u001B[1;33m.\u001B[0m\u001B[0mconverter\u001B[0m \u001B[1;33m=\u001B[0m \u001B[0mconverter\u001B[0m\u001B[1;33m\u001B[0m\u001B[1;33m\u001B[0m\u001B[0m\n\u001B[1;32m-> 1449\u001B[1;33m         \u001B[0mdefault\u001B[0m \u001B[1;33m=\u001B[0m \u001B[0mself\u001B[0m\u001B[1;33m.\u001B[0m\u001B[0mconverter\u001B[0m\u001B[1;33m.\u001B[0m\u001B[0mdefault_units\u001B[0m\u001B[1;33m(\u001B[0m\u001B[0mdata\u001B[0m\u001B[1;33m,\u001B[0m \u001B[0mself\u001B[0m\u001B[1;33m)\u001B[0m\u001B[1;33m\u001B[0m\u001B[1;33m\u001B[0m\u001B[0m\n\u001B[0m\u001B[0;32m   1450\u001B[0m         \u001B[1;32mif\u001B[0m \u001B[0mdefault\u001B[0m \u001B[1;32mis\u001B[0m \u001B[1;32mnot\u001B[0m \u001B[1;32mNone\u001B[0m \u001B[1;32mand\u001B[0m \u001B[0mself\u001B[0m\u001B[1;33m.\u001B[0m\u001B[0munits\u001B[0m \u001B[1;32mis\u001B[0m \u001B[1;32mNone\u001B[0m\u001B[1;33m:\u001B[0m\u001B[1;33m\u001B[0m\u001B[1;33m\u001B[0m\u001B[0m\n\u001B[0;32m   1451\u001B[0m             \u001B[0mself\u001B[0m\u001B[1;33m.\u001B[0m\u001B[0mset_units\u001B[0m\u001B[1;33m(\u001B[0m\u001B[0mdefault\u001B[0m\u001B[1;33m)\u001B[0m\u001B[1;33m\u001B[0m\u001B[1;33m\u001B[0m\u001B[0m\n",
      "\u001B[1;32mE:\\AI\\ANACONDA\\lib\\site-packages\\matplotlib\\category.py\u001B[0m in \u001B[0;36mdefault_units\u001B[1;34m(data, axis)\u001B[0m\n\u001B[0;32m    114\u001B[0m         \u001B[1;31m# the conversion call stack is default_units -> axis_info -> convert\u001B[0m\u001B[1;33m\u001B[0m\u001B[1;33m\u001B[0m\u001B[0m\n\u001B[0;32m    115\u001B[0m         \u001B[1;32mif\u001B[0m \u001B[0maxis\u001B[0m\u001B[1;33m.\u001B[0m\u001B[0munits\u001B[0m \u001B[1;32mis\u001B[0m \u001B[1;32mNone\u001B[0m\u001B[1;33m:\u001B[0m\u001B[1;33m\u001B[0m\u001B[1;33m\u001B[0m\u001B[0m\n\u001B[1;32m--> 116\u001B[1;33m             \u001B[0maxis\u001B[0m\u001B[1;33m.\u001B[0m\u001B[0mset_units\u001B[0m\u001B[1;33m(\u001B[0m\u001B[0mUnitData\u001B[0m\u001B[1;33m(\u001B[0m\u001B[0mdata\u001B[0m\u001B[1;33m)\u001B[0m\u001B[1;33m)\u001B[0m\u001B[1;33m\u001B[0m\u001B[1;33m\u001B[0m\u001B[0m\n\u001B[0m\u001B[0;32m    117\u001B[0m         \u001B[1;32melse\u001B[0m\u001B[1;33m:\u001B[0m\u001B[1;33m\u001B[0m\u001B[1;33m\u001B[0m\u001B[0m\n\u001B[0;32m    118\u001B[0m             \u001B[0maxis\u001B[0m\u001B[1;33m.\u001B[0m\u001B[0munits\u001B[0m\u001B[1;33m.\u001B[0m\u001B[0mupdate\u001B[0m\u001B[1;33m(\u001B[0m\u001B[0mdata\u001B[0m\u001B[1;33m)\u001B[0m\u001B[1;33m\u001B[0m\u001B[1;33m\u001B[0m\u001B[0m\n",
      "\u001B[1;32mE:\\AI\\ANACONDA\\lib\\site-packages\\matplotlib\\category.py\u001B[0m in \u001B[0;36m__init__\u001B[1;34m(self, data)\u001B[0m\n\u001B[0;32m    190\u001B[0m         \u001B[0mself\u001B[0m\u001B[1;33m.\u001B[0m\u001B[0m_counter\u001B[0m \u001B[1;33m=\u001B[0m \u001B[0mitertools\u001B[0m\u001B[1;33m.\u001B[0m\u001B[0mcount\u001B[0m\u001B[1;33m(\u001B[0m\u001B[1;33m)\u001B[0m\u001B[1;33m\u001B[0m\u001B[1;33m\u001B[0m\u001B[0m\n\u001B[0;32m    191\u001B[0m         \u001B[1;32mif\u001B[0m \u001B[0mdata\u001B[0m \u001B[1;32mis\u001B[0m \u001B[1;32mnot\u001B[0m \u001B[1;32mNone\u001B[0m\u001B[1;33m:\u001B[0m\u001B[1;33m\u001B[0m\u001B[1;33m\u001B[0m\u001B[0m\n\u001B[1;32m--> 192\u001B[1;33m             \u001B[0mself\u001B[0m\u001B[1;33m.\u001B[0m\u001B[0mupdate\u001B[0m\u001B[1;33m(\u001B[0m\u001B[0mdata\u001B[0m\u001B[1;33m)\u001B[0m\u001B[1;33m\u001B[0m\u001B[1;33m\u001B[0m\u001B[0m\n\u001B[0m\u001B[0;32m    193\u001B[0m \u001B[1;33m\u001B[0m\u001B[0m\n\u001B[0;32m    194\u001B[0m     \u001B[1;33m@\u001B[0m\u001B[0mstaticmethod\u001B[0m\u001B[1;33m\u001B[0m\u001B[1;33m\u001B[0m\u001B[0m\n",
      "\u001B[1;32mE:\\AI\\ANACONDA\\lib\\site-packages\\matplotlib\\category.py\u001B[0m in \u001B[0;36mupdate\u001B[1;34m(self, data)\u001B[0m\n\u001B[0;32m    223\u001B[0m         \u001B[1;31m# check if convertible to number:\u001B[0m\u001B[1;33m\u001B[0m\u001B[1;33m\u001B[0m\u001B[0m\n\u001B[0;32m    224\u001B[0m         \u001B[0mconvertible\u001B[0m \u001B[1;33m=\u001B[0m \u001B[1;32mTrue\u001B[0m\u001B[1;33m\u001B[0m\u001B[1;33m\u001B[0m\u001B[0m\n\u001B[1;32m--> 225\u001B[1;33m         \u001B[1;32mfor\u001B[0m \u001B[0mval\u001B[0m \u001B[1;32min\u001B[0m \u001B[0mOrderedDict\u001B[0m\u001B[1;33m.\u001B[0m\u001B[0mfromkeys\u001B[0m\u001B[1;33m(\u001B[0m\u001B[0mdata\u001B[0m\u001B[1;33m)\u001B[0m\u001B[1;33m:\u001B[0m\u001B[1;33m\u001B[0m\u001B[1;33m\u001B[0m\u001B[0m\n\u001B[0m\u001B[0;32m    226\u001B[0m             \u001B[1;31m# OrderedDict just iterates over unique values in data.\u001B[0m\u001B[1;33m\u001B[0m\u001B[1;33m\u001B[0m\u001B[0m\n\u001B[0;32m    227\u001B[0m             \u001B[0m_api\u001B[0m\u001B[1;33m.\u001B[0m\u001B[0mcheck_isinstance\u001B[0m\u001B[1;33m(\u001B[0m\u001B[1;33m(\u001B[0m\u001B[0mstr\u001B[0m\u001B[1;33m,\u001B[0m \u001B[0mbytes\u001B[0m\u001B[1;33m)\u001B[0m\u001B[1;33m,\u001B[0m \u001B[0mvalue\u001B[0m\u001B[1;33m=\u001B[0m\u001B[0mval\u001B[0m\u001B[1;33m)\u001B[0m\u001B[1;33m\u001B[0m\u001B[1;33m\u001B[0m\u001B[0m\n",
      "\u001B[1;31mTypeError\u001B[0m: unhashable type: 'dict'"
     ]
    },
    {
     "data": {
      "text/plain": "<Figure size 1000x600 with 1 Axes>",
      "image/png": "[encoded data removed]"
     },
     "metadata": {},
     "output_type": "display_data"
    }
   ],
   "source": [
    "# 假设 array1 和 array2 是你提到的两个数组\n",
    "from matplotlib import pyplot as plt\n",
    "# 生成索引，用于横坐标\n",
    "indices = range(1, 21)\n",
    "\n",
    "# 创建绘图\n",
    "plt.figure(figsize=(10, 6))\n",
    "# plt.grid(False)\n",
    "plt.grid(axis='x',which='minor')\n",
    "\n",
    "# 绘制两个数组的值，可以选择不同的线型和标记风格来区分\n",
    "plt.plot(indices, rfr_score_list, marker='o', linestyle='-', color='g', label='Random Forest',linewidth=0.6,markersize=3)\n",
    "plt.plot(indices, stagen_score_list, marker='o', linestyle='-', color='b', label='StaGen-RF',linewidth=0.6,markersize=3)\n",
    "\n",
    "# 添加图例\n",
    "plt.legend()\n",
    "# 添加网格\n",
    "\n",
    "# 添加标题和轴标签\n",
    "plt.title('Comparison')\n",
    "plt.xlabel('Index of Experiment')\n",
    "plt.ylabel('Average RMSE')\n",
    "plt.xticks(range(1,21))\n",
    "plt.yticks(range(2,9))\n",
    "# 显示图形\n",
    "plt.show()"
   ],
   "metadata": {
    "collapsed": false,
    "ExecuteTime": {
     "end_time": "2024-01-04T12:50:47.399543500Z",
     "start_time": "2024-01-04T12:50:47.288916700Z"
    }
   },
   "id": "f172cce960f45f17"
  },
  {
   "cell_type": "code",
   "execution_count": 42,
   "outputs": [
    {
     "name": "stdout",
     "output_type": "stream",
     "text": [
      "4.6205\n",
      "3.853999999999999\n",
      "----------------------------------------------------------------------------------------------------\n",
      "0.6546867571594831\n",
      "0.7996211603003012\n"
     ]
    }
   ],
   "source": [
    "print(np.mean(rfr_score_list))\n",
    "print(np.mean(stagen_score_list))\n",
    "\n",
    "print('-'*100)\n",
    "print(np.std(rfr_score_list))\n",
    "print(np.std(stagen_score_list))\n"
   ],
   "metadata": {
    "collapsed": false,
    "ExecuteTime": {
     "end_time": "2024-01-04T10:54:09.436720100Z",
     "start_time": "2024-01-04T10:54:09.408525400Z"
    }
   },
   "id": "b9f4333594fc9d19"
  },
  {
   "cell_type": "code",
   "execution_count": 43,
   "outputs": [
    {
     "name": "stdout",
     "output_type": "stream",
     "text": [
      "evaluation of [ random forest ]\n",
      "\t- average RMSE: 2.32\n",
      "\t- RMSE: \n",
      "\t\t\t1.95\t\t\tH2\n",
      "\t\t\t1.96\t\t\tCO\n",
      "\t\t\t2.00\t\t\tCO2\n",
      "\t\t\t0.65\t\t\tCH4\n",
      "\t\t\t0.79\t\t\tLower\n",
      "\t\t\t2.77\t\t\theating value\n",
      "\t\t\t6.16\t\t\tChar yield\n",
      "\t- r2 score: 0.95\n"
     ]
    }
   ],
   "source": [
    "\n",
    "y_pred=best_model.predict(x_test)\n",
    "y_pred_denorm=mms_y.inverse_transform(y_pred)\n",
    "rfr_score_dict=get_evaluation(y_test_denorm,y_pred_denorm)\n",
    "print_evaluation('random forest',rfr_score_dict)\n"
   ],
   "metadata": {
    "collapsed": false,
    "ExecuteTime": {
     "end_time": "2024-01-04T10:54:09.454607Z",
     "start_time": "2024-01-04T10:54:09.423700900Z"
    }
   },
   "id": "b4e627ab42f59e83"
  },
  {
   "cell_type": "code",
   "execution_count": 44,
   "outputs": [
    {
     "name": "stdout",
     "output_type": "stream",
     "text": [
      "evaluation of [ StaGen ]\n",
      "\t- average RMSE: 4.49\n",
      "\t- RMSE: \n",
      "\t\t\t4.56\t\t\tH2\n",
      "\t\t\t4.49\t\t\tCO\n",
      "\t\t\t3.71\t\t\tCO2\n",
      "\t\t\t1.59\t\t\tCH4\n",
      "\t\t\t1.95\t\t\tLower\n",
      "\t\t\t4.03\t\t\theating value\n",
      "\t\t\t11.08\t\t\tChar yield\n",
      "\t- r2 score: 0.77\n"
     ]
    }
   ],
   "source": [
    "stagen=StaGen(7)\n",
    "with open('trained_model/StaGen.pkl','rb') as f:\n",
    "    stagen_state_dict=pickle.load(f)\n",
    "stagen.load_state_dict(stagen_state_dict)\n",
    "y_pred=stagen(torch.tensor(y_pred,dtype=torch.float32))\n",
    "y_pred_denorm=mms_y.inverse_transform(y_pred.detach().numpy())\n",
    "stagen_score_dict=get_evaluation(y_test_denorm,y_pred_denorm)\n",
    "print_evaluation('StaGen',stagen_score_dict)"
   ],
   "metadata": {
    "collapsed": false,
    "ExecuteTime": {
     "end_time": "2024-01-04T10:54:09.497453800Z",
     "start_time": "2024-01-04T10:54:09.453600900Z"
    }
   },
   "id": "6bf3478abbc6de61"
  }
 ],
 "metadata": {
  "kernelspec": {
   "display_name": "Python 3",
   "language": "python",
   "name": "python3"
  },
  "language_info": {
   "codemirror_mode": {
    "name": "ipython",
    "version": 2
   },
   "file_extension": ".py",
   "mimetype": "text/x-python",
   "name": "python",
   "nbconvert_exporter": "python",
   "pygments_lexer": "ipython2",
   "version": "2.7.6"
  }
 },
 "nbformat": 4,
 "nbformat_minor": 5
}
