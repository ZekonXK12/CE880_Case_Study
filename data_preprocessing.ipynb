{
 "cells": [
  {
   "cell_type": "code",
   "execution_count": 1,
   "id": "initial_id",
   "metadata": {
    "collapsed": true,
    "ExecuteTime": {
     "end_time": "2023-12-21T03:19:55.243612Z",
     "start_time": "2023-12-21T03:19:55.063595800Z"
    }
   },
   "outputs": [],
   "source": [
    "import numpy as np\n",
    "import pandas as pd\n",
    "import scipy as sp\n",
    "\n",
    "from sklearn.preprocessing import MinMaxScaler\n",
    "from sklearn.model_selection import train_test_split\n",
    "from sklearn.tree import DecisionTreeRegressor\n",
    "\n",
    "\n"
   ]
  },
  {
   "cell_type": "code",
   "execution_count": 2,
   "outputs": [],
   "source": [
    "data=pd.read_excel('data/dataBiomass_CE880.xlsx',skiprows=2,header=0).drop('Number',axis=1)\n",
    "mms=MinMaxScaler()\n",
    "data_norm=pd.DataFrame(mms.fit_transform(data))\n"
   ],
   "metadata": {
    "collapsed": false,
    "ExecuteTime": {
     "end_time": "2023-12-21T03:19:55.577333Z",
     "start_time": "2023-12-21T03:19:55.243612Z"
    }
   },
   "id": "a1df06a1b5d033f8"
  },
  {
   "cell_type": "code",
   "execution_count": 3,
   "outputs": [],
   "source": [
    "x,y=data_norm.iloc[:,:8],data_norm.iloc[:,8:]\n",
    "x_train,x_test,y_train,y_test=train_test_split(x,y,test_size=0.25)\n"
   ],
   "metadata": {
    "collapsed": false,
    "ExecuteTime": {
     "end_time": "2023-12-21T03:19:55.587329400Z",
     "start_time": "2023-12-21T03:19:55.577333Z"
    }
   },
   "id": "fcaed777dde11e3e"
  },
  {
   "cell_type": "code",
   "execution_count": 4,
   "outputs": [],
   "source": [
    "from sklearn.tree import DecisionTreeRegressor\n",
    "from sklearn.ensemble import RandomForestRegressor\n",
    "\n",
    "from sklearn.model_selection import GridSearchCV\n",
    "from sklearn.metrics import mean_squared_error,r2_score"
   ],
   "metadata": {
    "collapsed": false,
    "ExecuteTime": {
     "end_time": "2023-12-21T03:19:55.627306100Z",
     "start_time": "2023-12-21T03:19:55.587329400Z"
    }
   },
   "id": "3474ac53e11ad7c6"
  },
  {
   "cell_type": "code",
   "execution_count": 20,
   "outputs": [
    {
     "name": "stdout",
     "output_type": "stream",
     "text": [
      "0.007436623378030261\n"
     ]
    }
   ],
   "source": [
    "rfr=RandomForestRegressor()\n",
    "rfr.fit(x_train,y_train)\n",
    "rfr_pred=rfr.predict(x_test)\n",
    "rfr_mse=mean_squared_error(y_test,rfr_pred)\n",
    "rfr_r2=r2_score(y_test,rfr_pred)\n",
    "\n",
    "print(rfr_mse)\n"
   ],
   "metadata": {
    "collapsed": false,
    "ExecuteTime": {
     "end_time": "2023-12-21T03:33:42.784735200Z",
     "start_time": "2023-12-21T03:33:42.567487400Z"
    }
   },
   "id": "21bd0a242e92a312"
  },
  {
   "cell_type": "code",
   "execution_count": 22,
   "outputs": [
    {
     "name": "stderr",
     "output_type": "stream",
     "text": [
      "C:\\Python3\\lib\\site-packages\\sklearn\\model_selection\\_validation.py:425: FitFailedWarning: \n",
      "160 fits failed out of a total of 400.\n",
      "The score on these train-test partitions for these parameters will be set to nan.\n",
      "If these failures are not expected, you can try to debug them by setting error_score='raise'.\n",
      "\n",
      "Below are more details about the failures:\n",
      "--------------------------------------------------------------------------------\n",
      "60 fits failed with the following error:\n",
      "Traceback (most recent call last):\n",
      "  File \"C:\\Python3\\lib\\site-packages\\sklearn\\model_selection\\_validation.py\", line 732, in _fit_and_score\n",
      "    estimator.fit(X_train, y_train, **fit_params)\n",
      "  File \"C:\\Python3\\lib\\site-packages\\sklearn\\base.py\", line 1144, in wrapper\n",
      "    estimator._validate_params()\n",
      "  File \"C:\\Python3\\lib\\site-packages\\sklearn\\base.py\", line 637, in _validate_params\n",
      "    validate_parameter_constraints(\n",
      "  File \"C:\\Python3\\lib\\site-packages\\sklearn\\utils\\_param_validation.py\", line 95, in validate_parameter_constraints\n",
      "    raise InvalidParameterError(\n",
      "sklearn.utils._param_validation.InvalidParameterError: The 'n_estimators' parameter of RandomForestRegressor must be an int in the range [1, inf). Got None instead.\n",
      "\n",
      "--------------------------------------------------------------------------------\n",
      "100 fits failed with the following error:\n",
      "Traceback (most recent call last):\n",
      "  File \"C:\\Python3\\lib\\site-packages\\sklearn\\model_selection\\_validation.py\", line 732, in _fit_and_score\n",
      "    estimator.fit(X_train, y_train, **fit_params)\n",
      "  File \"C:\\Python3\\lib\\site-packages\\sklearn\\base.py\", line 1144, in wrapper\n",
      "    estimator._validate_params()\n",
      "  File \"C:\\Python3\\lib\\site-packages\\sklearn\\base.py\", line 637, in _validate_params\n",
      "    validate_parameter_constraints(\n",
      "  File \"C:\\Python3\\lib\\site-packages\\sklearn\\utils\\_param_validation.py\", line 95, in validate_parameter_constraints\n",
      "    raise InvalidParameterError(\n",
      "sklearn.utils._param_validation.InvalidParameterError: The 'min_samples_split' parameter of RandomForestRegressor must be an int in the range [2, inf) or a float in the range (0.0, 1.0]. Got None instead.\n",
      "\n",
      "  warnings.warn(some_fits_failed_message, FitFailedWarning)\n",
      "C:\\Python3\\lib\\site-packages\\sklearn\\model_selection\\_search.py:976: UserWarning: One or more of the test scores are non-finite: [-0.01732937 -0.01497198 -0.01423113 -0.01334701         nan -0.0164534\n",
      " -0.01411085 -0.01399603 -0.0136961          nan -0.01705567 -0.01607267\n",
      " -0.01451991 -0.01414351         nan         nan         nan         nan\n",
      "         nan         nan -0.01689968 -0.01323788 -0.01128788 -0.01129019\n",
      "         nan -0.01758226 -0.01312108 -0.01233622 -0.01191921         nan\n",
      " -0.01905848 -0.01423808 -0.01327269 -0.01338424         nan         nan\n",
      "         nan         nan         nan         nan -0.01689281 -0.01183857\n",
      " -0.01224352 -0.01126693         nan -0.01532409 -0.0133333  -0.01213556\n",
      " -0.01204678         nan -0.01675073 -0.01413288 -0.01313216 -0.01292333\n",
      "         nan         nan         nan         nan         nan         nan\n",
      " -0.01729485 -0.01262122 -0.01264659 -0.01149463         nan -0.01721779\n",
      " -0.01341763 -0.01229734 -0.01198298         nan -0.01593548 -0.01405581\n",
      " -0.01375416 -0.0130033          nan         nan         nan         nan\n",
      "         nan         nan]\n",
      "  warnings.warn(\n"
     ]
    },
    {
     "data": {
      "text/plain": "-0.011266930895459895"
     },
     "execution_count": 22,
     "metadata": {},
     "output_type": "execute_result"
    }
   ],
   "source": [
    "rfr=RandomForestRegressor()\n",
    "param_grid={\n",
    "    'n_estimators':[2,5,10,20,None],\n",
    "    'max_depth':[5,10,20,None],\n",
    "    'min_samples_split':[2,5,10,None]\n",
    "}\n",
    "\n",
    "gs_rfr=GridSearchCV(\n",
    "    estimator=rfr,\n",
    "    param_grid=param_grid,\n",
    "    scoring='neg_mean_squared_error'\n",
    ")\n",
    "\n",
    "gs_rfr.fit(x_train,y_train)\n",
    "gs_rfr.best_score_\n"
   ],
   "metadata": {
    "collapsed": false,
    "ExecuteTime": {
     "end_time": "2023-12-21T03:33:59.990999300Z",
     "start_time": "2023-12-21T03:33:55.972206900Z"
    }
   },
   "id": "6b276f9b9de4c56c"
  }
 ],
 "metadata": {
  "kernelspec": {
   "display_name": "Python 3",
   "language": "python",
   "name": "python3"
  },
  "language_info": {
   "codemirror_mode": {
    "name": "ipython",
    "version": 2
   },
   "file_extension": ".py",
   "mimetype": "text/x-python",
   "name": "python",
   "nbconvert_exporter": "python",
   "pygments_lexer": "ipython2",
   "version": "2.7.6"
  }
 },
 "nbformat": 4,
 "nbformat_minor": 5
}
