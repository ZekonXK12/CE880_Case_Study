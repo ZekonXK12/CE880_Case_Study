{
 "cells": [
  {
   "cell_type": "code",
   "execution_count": 3,
   "id": "initial_id",
   "metadata": {
    "collapsed": true,
    "ExecuteTime": {
     "end_time": "2024-01-04T04:38:20.111387100Z",
     "start_time": "2024-01-04T04:38:20.096839900Z"
    }
   },
   "outputs": [],
   "source": [
    "import numpy as np\n",
    "import pandas as pd\n",
    "\n",
    "from sklearn.model_selection import train_test_split\n",
    "from sklearn.metrics import mean_squared_error\n",
    "\n",
    "import pickle"
   ]
  },
  {
   "cell_type": "code",
   "execution_count": 4,
   "outputs": [],
   "source": [
    "# Stabilized Random Forest\n",
    "import NeuralNetwork\n",
    "from importlib import reload\n",
    "reload(NeuralNetwork)\n",
    "from NeuralNetwork import StaGen,BiomassDataset\n",
    "import torch\n",
    "from torch.utils.data import DataLoader\n",
    "from torch.nn import MSELoss,init\n",
    "from torch.optim import Adam,AdamW\n",
    "\n",
    "ens_data=pd.read_csv('data/StaGen_dataset.csv')\n",
    "ens_train,ens_test=train_test_split(ens_data,test_size=0.2)\n",
    "x_train_stb=ens_train.iloc[:,:7]\n",
    "y_train_stb=ens_train.iloc[:,7:]\n",
    "\n",
    "x_test_stb=ens_test.iloc[:,:7]\n",
    "y_test_stb=ens_test.iloc[:,7:]\n",
    "\n",
    "tensor_x_test_stb=torch.tensor(x_test_stb.values,dtype=torch.float32)\n",
    "tensor_y_test_stb=torch.tensor(y_test_stb.values,dtype=torch.float32)\n",
    "\n",
    "tensor_train_stb=torch.tensor(ens_train.values,dtype=torch.float32)\n",
    "\n",
    "\n",
    "nn_model=StaGen(7)\n",
    "\n",
    "n_epochs=2000\n",
    "batch_size=64\n",
    "\n",
    "dataset=BiomassDataset(tensor_train_stb)\n",
    "dataloader=DataLoader(dataset,batch_size=batch_size,shuffle=True,drop_last=False)\n",
    "\n",
    "criterion=MSELoss()\n",
    "optimizer=AdamW(nn_model.parameters(),lr=0.0002)\n",
    "\n",
    "best_epoch=None\n",
    "best_score=float('inf')\n",
    "best_rmse=None\n",
    "best_model=None\n",
    "\n",
    "for epoch in range(n_epochs):\n",
    "    # training    \n",
    "    nn_model.train()\n",
    "    for batch,batch_data in enumerate(dataloader):\n",
    "        optimizer.zero_grad()\n",
    "        feat,label=batch_data[:,:7],batch_data[:,7:]\n",
    "        pred=nn_model(feat)\n",
    "        loss=criterion(pred,label)\n",
    "        \n",
    "        loss.backward()\n",
    "        optimizer.step()"
   ],
   "metadata": {
    "collapsed": false,
    "ExecuteTime": {
     "end_time": "2024-01-04T04:40:20.996025400Z",
     "start_time": "2024-01-04T04:38:20.111387100Z"
    }
   },
   "id": "faac05f4a6393caf"
  },
  {
   "cell_type": "code",
   "execution_count": 5,
   "outputs": [],
   "source": [
    "StaGen_state_dict=nn_model.state_dict()\n",
    "with open('trained_model/StaGen.pkl','wb') as f:\n",
    "    pickle.dump(StaGen_state_dict,f)"
   ],
   "metadata": {
    "collapsed": false,
    "ExecuteTime": {
     "end_time": "2024-01-04T04:40:21.011968600Z",
     "start_time": "2024-01-04T04:40:20.997017700Z"
    }
   },
   "id": "f3532cee28101291"
  }
 ],
 "metadata": {
  "kernelspec": {
   "display_name": "Python 3",
   "language": "python",
   "name": "python3"
  },
  "language_info": {
   "codemirror_mode": {
    "name": "ipython",
    "version": 2
   },
   "file_extension": ".py",
   "mimetype": "text/x-python",
   "name": "python",
   "nbconvert_exporter": "python",
   "pygments_lexer": "ipython2",
   "version": "2.7.6"
  }
 },
 "nbformat": 4,
 "nbformat_minor": 5
}
